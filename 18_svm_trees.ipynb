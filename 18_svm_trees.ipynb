{
 "cells": [
  {
   "cell_type": "markdown",
   "metadata": {},
   "source": [
    "### Tree Models and Support Vector Machines"
   ]
  },
  {
   "cell_type": "markdown",
   "metadata": {},
   "source": [
    "- Detecting Fake Jobs\n",
    "- Smoker detection"
   ]
  },
  {
   "cell_type": "code",
   "execution_count": 1,
   "metadata": {},
   "outputs": [],
   "source": [
    "import pandas as pd"
   ]
  },
  {
   "cell_type": "code",
   "execution_count": 4,
   "metadata": {},
   "outputs": [],
   "source": [
    "jobs = pd.read_csv('data/fake_job_postings.csv.zip', compression = 'zip', index_col = 0)"
   ]
  },
  {
   "cell_type": "code",
   "execution_count": 5,
   "metadata": {},
   "outputs": [
    {
     "data": {
      "text/html": [
       "<div>\n",
       "<style scoped>\n",
       "    .dataframe tbody tr th:only-of-type {\n",
       "        vertical-align: middle;\n",
       "    }\n",
       "\n",
       "    .dataframe tbody tr th {\n",
       "        vertical-align: top;\n",
       "    }\n",
       "\n",
       "    .dataframe thead th {\n",
       "        text-align: right;\n",
       "    }\n",
       "</style>\n",
       "<table border=\"1\" class=\"dataframe\">\n",
       "  <thead>\n",
       "    <tr style=\"text-align: right;\">\n",
       "      <th></th>\n",
       "      <th>title</th>\n",
       "      <th>location</th>\n",
       "      <th>department</th>\n",
       "      <th>salary_range</th>\n",
       "      <th>company_profile</th>\n",
       "      <th>description</th>\n",
       "      <th>requirements</th>\n",
       "      <th>benefits</th>\n",
       "      <th>telecommuting</th>\n",
       "      <th>has_company_logo</th>\n",
       "      <th>has_questions</th>\n",
       "      <th>employment_type</th>\n",
       "      <th>required_experience</th>\n",
       "      <th>required_education</th>\n",
       "      <th>industry</th>\n",
       "      <th>function</th>\n",
       "      <th>fraudulent</th>\n",
       "    </tr>\n",
       "    <tr>\n",
       "      <th>job_id</th>\n",
       "      <th></th>\n",
       "      <th></th>\n",
       "      <th></th>\n",
       "      <th></th>\n",
       "      <th></th>\n",
       "      <th></th>\n",
       "      <th></th>\n",
       "      <th></th>\n",
       "      <th></th>\n",
       "      <th></th>\n",
       "      <th></th>\n",
       "      <th></th>\n",
       "      <th></th>\n",
       "      <th></th>\n",
       "      <th></th>\n",
       "      <th></th>\n",
       "      <th></th>\n",
       "    </tr>\n",
       "  </thead>\n",
       "  <tbody>\n",
       "    <tr>\n",
       "      <td>1</td>\n",
       "      <td>Marketing Intern</td>\n",
       "      <td>US, NY, New York</td>\n",
       "      <td>Marketing</td>\n",
       "      <td>NaN</td>\n",
       "      <td>We're Food52, and we've created a groundbreaki...</td>\n",
       "      <td>Food52, a fast-growing, James Beard Award-winn...</td>\n",
       "      <td>Experience with content management systems a m...</td>\n",
       "      <td>NaN</td>\n",
       "      <td>0</td>\n",
       "      <td>1</td>\n",
       "      <td>0</td>\n",
       "      <td>Other</td>\n",
       "      <td>Internship</td>\n",
       "      <td>NaN</td>\n",
       "      <td>NaN</td>\n",
       "      <td>Marketing</td>\n",
       "      <td>0</td>\n",
       "    </tr>\n",
       "    <tr>\n",
       "      <td>2</td>\n",
       "      <td>Customer Service - Cloud Video Production</td>\n",
       "      <td>NZ, , Auckland</td>\n",
       "      <td>Success</td>\n",
       "      <td>NaN</td>\n",
       "      <td>90 Seconds, the worlds Cloud Video Production ...</td>\n",
       "      <td>Organised - Focused - Vibrant - Awesome!Do you...</td>\n",
       "      <td>What we expect from you:Your key responsibilit...</td>\n",
       "      <td>What you will get from usThrough being part of...</td>\n",
       "      <td>0</td>\n",
       "      <td>1</td>\n",
       "      <td>0</td>\n",
       "      <td>Full-time</td>\n",
       "      <td>Not Applicable</td>\n",
       "      <td>NaN</td>\n",
       "      <td>Marketing and Advertising</td>\n",
       "      <td>Customer Service</td>\n",
       "      <td>0</td>\n",
       "    </tr>\n",
       "    <tr>\n",
       "      <td>3</td>\n",
       "      <td>Commissioning Machinery Assistant (CMA)</td>\n",
       "      <td>US, IA, Wever</td>\n",
       "      <td>NaN</td>\n",
       "      <td>NaN</td>\n",
       "      <td>Valor Services provides Workforce Solutions th...</td>\n",
       "      <td>Our client, located in Houston, is actively se...</td>\n",
       "      <td>Implement pre-commissioning and commissioning ...</td>\n",
       "      <td>NaN</td>\n",
       "      <td>0</td>\n",
       "      <td>1</td>\n",
       "      <td>0</td>\n",
       "      <td>NaN</td>\n",
       "      <td>NaN</td>\n",
       "      <td>NaN</td>\n",
       "      <td>NaN</td>\n",
       "      <td>NaN</td>\n",
       "      <td>0</td>\n",
       "    </tr>\n",
       "    <tr>\n",
       "      <td>4</td>\n",
       "      <td>Account Executive - Washington DC</td>\n",
       "      <td>US, DC, Washington</td>\n",
       "      <td>Sales</td>\n",
       "      <td>NaN</td>\n",
       "      <td>Our passion for improving quality of life thro...</td>\n",
       "      <td>THE COMPANY: ESRI – Environmental Systems Rese...</td>\n",
       "      <td>EDUCATION: Bachelor’s or Master’s in GIS, busi...</td>\n",
       "      <td>Our culture is anything but corporate—we have ...</td>\n",
       "      <td>0</td>\n",
       "      <td>1</td>\n",
       "      <td>0</td>\n",
       "      <td>Full-time</td>\n",
       "      <td>Mid-Senior level</td>\n",
       "      <td>Bachelor's Degree</td>\n",
       "      <td>Computer Software</td>\n",
       "      <td>Sales</td>\n",
       "      <td>0</td>\n",
       "    </tr>\n",
       "    <tr>\n",
       "      <td>5</td>\n",
       "      <td>Bill Review Manager</td>\n",
       "      <td>US, FL, Fort Worth</td>\n",
       "      <td>NaN</td>\n",
       "      <td>NaN</td>\n",
       "      <td>SpotSource Solutions LLC is a Global Human Cap...</td>\n",
       "      <td>JOB TITLE: Itemization Review ManagerLOCATION:...</td>\n",
       "      <td>QUALIFICATIONS:RN license in the State of Texa...</td>\n",
       "      <td>Full Benefits Offered</td>\n",
       "      <td>0</td>\n",
       "      <td>1</td>\n",
       "      <td>1</td>\n",
       "      <td>Full-time</td>\n",
       "      <td>Mid-Senior level</td>\n",
       "      <td>Bachelor's Degree</td>\n",
       "      <td>Hospital &amp; Health Care</td>\n",
       "      <td>Health Care Provider</td>\n",
       "      <td>0</td>\n",
       "    </tr>\n",
       "  </tbody>\n",
       "</table>\n",
       "</div>"
      ],
      "text/plain": [
       "                                            title            location  \\\n",
       "job_id                                                                  \n",
       "1                                Marketing Intern    US, NY, New York   \n",
       "2       Customer Service - Cloud Video Production      NZ, , Auckland   \n",
       "3         Commissioning Machinery Assistant (CMA)       US, IA, Wever   \n",
       "4               Account Executive - Washington DC  US, DC, Washington   \n",
       "5                             Bill Review Manager  US, FL, Fort Worth   \n",
       "\n",
       "       department salary_range  \\\n",
       "job_id                           \n",
       "1       Marketing          NaN   \n",
       "2         Success          NaN   \n",
       "3             NaN          NaN   \n",
       "4           Sales          NaN   \n",
       "5             NaN          NaN   \n",
       "\n",
       "                                          company_profile  \\\n",
       "job_id                                                      \n",
       "1       We're Food52, and we've created a groundbreaki...   \n",
       "2       90 Seconds, the worlds Cloud Video Production ...   \n",
       "3       Valor Services provides Workforce Solutions th...   \n",
       "4       Our passion for improving quality of life thro...   \n",
       "5       SpotSource Solutions LLC is a Global Human Cap...   \n",
       "\n",
       "                                              description  \\\n",
       "job_id                                                      \n",
       "1       Food52, a fast-growing, James Beard Award-winn...   \n",
       "2       Organised - Focused - Vibrant - Awesome!Do you...   \n",
       "3       Our client, located in Houston, is actively se...   \n",
       "4       THE COMPANY: ESRI – Environmental Systems Rese...   \n",
       "5       JOB TITLE: Itemization Review ManagerLOCATION:...   \n",
       "\n",
       "                                             requirements  \\\n",
       "job_id                                                      \n",
       "1       Experience with content management systems a m...   \n",
       "2       What we expect from you:Your key responsibilit...   \n",
       "3       Implement pre-commissioning and commissioning ...   \n",
       "4       EDUCATION: Bachelor’s or Master’s in GIS, busi...   \n",
       "5       QUALIFICATIONS:RN license in the State of Texa...   \n",
       "\n",
       "                                                 benefits  telecommuting  \\\n",
       "job_id                                                                     \n",
       "1                                                     NaN              0   \n",
       "2       What you will get from usThrough being part of...              0   \n",
       "3                                                     NaN              0   \n",
       "4       Our culture is anything but corporate—we have ...              0   \n",
       "5                                   Full Benefits Offered              0   \n",
       "\n",
       "        has_company_logo  has_questions employment_type required_experience  \\\n",
       "job_id                                                                        \n",
       "1                      1              0           Other          Internship   \n",
       "2                      1              0       Full-time      Not Applicable   \n",
       "3                      1              0             NaN                 NaN   \n",
       "4                      1              0       Full-time    Mid-Senior level   \n",
       "5                      1              1       Full-time    Mid-Senior level   \n",
       "\n",
       "       required_education                   industry              function  \\\n",
       "job_id                                                                       \n",
       "1                     NaN                        NaN             Marketing   \n",
       "2                     NaN  Marketing and Advertising      Customer Service   \n",
       "3                     NaN                        NaN                   NaN   \n",
       "4       Bachelor's Degree          Computer Software                 Sales   \n",
       "5       Bachelor's Degree     Hospital & Health Care  Health Care Provider   \n",
       "\n",
       "        fraudulent  \n",
       "job_id              \n",
       "1                0  \n",
       "2                0  \n",
       "3                0  \n",
       "4                0  \n",
       "5                0  "
      ]
     },
     "execution_count": 5,
     "metadata": {},
     "output_type": "execute_result"
    }
   ],
   "source": [
    "jobs.head()"
   ]
  },
  {
   "cell_type": "code",
   "execution_count": 6,
   "metadata": {},
   "outputs": [
    {
     "name": "stdout",
     "output_type": "stream",
     "text": [
      "<class 'pandas.core.frame.DataFrame'>\n",
      "Int64Index: 17880 entries, 1 to 17880\n",
      "Data columns (total 17 columns):\n",
      "title                  17880 non-null object\n",
      "location               17534 non-null object\n",
      "department             6333 non-null object\n",
      "salary_range           2868 non-null object\n",
      "company_profile        14572 non-null object\n",
      "description            17879 non-null object\n",
      "requirements           15185 non-null object\n",
      "benefits               10670 non-null object\n",
      "telecommuting          17880 non-null int64\n",
      "has_company_logo       17880 non-null int64\n",
      "has_questions          17880 non-null int64\n",
      "employment_type        14409 non-null object\n",
      "required_experience    10830 non-null object\n",
      "required_education     9775 non-null object\n",
      "industry               12977 non-null object\n",
      "function               11425 non-null object\n",
      "fraudulent             17880 non-null int64\n",
      "dtypes: int64(4), object(13)\n",
      "memory usage: 2.5+ MB\n"
     ]
    }
   ],
   "source": [
    "jobs.info()"
   ]
  },
  {
   "cell_type": "code",
   "execution_count": 7,
   "metadata": {},
   "outputs": [
    {
     "data": {
      "text/plain": [
       "0    0.951566\n",
       "1    0.048434\n",
       "Name: fraudulent, dtype: float64"
      ]
     },
     "execution_count": 7,
     "metadata": {},
     "output_type": "execute_result"
    }
   ],
   "source": [
    "jobs.fraudulent.value_counts(normalize = True)"
   ]
  },
  {
   "cell_type": "code",
   "execution_count": 10,
   "metadata": {},
   "outputs": [],
   "source": [
    "frauds = jobs[jobs.fraudulent == 1]"
   ]
  },
  {
   "cell_type": "code",
   "execution_count": 24,
   "metadata": {},
   "outputs": [
    {
     "data": {
      "text/html": [
       "<div>\n",
       "<style scoped>\n",
       "    .dataframe tbody tr th:only-of-type {\n",
       "        vertical-align: middle;\n",
       "    }\n",
       "\n",
       "    .dataframe tbody tr th {\n",
       "        vertical-align: top;\n",
       "    }\n",
       "\n",
       "    .dataframe thead th {\n",
       "        text-align: right;\n",
       "    }\n",
       "</style>\n",
       "<table border=\"1\" class=\"dataframe\">\n",
       "  <thead>\n",
       "    <tr style=\"text-align: right;\">\n",
       "      <th></th>\n",
       "      <th>title</th>\n",
       "      <th>location</th>\n",
       "      <th>department</th>\n",
       "      <th>salary_range</th>\n",
       "      <th>company_profile</th>\n",
       "      <th>description</th>\n",
       "      <th>requirements</th>\n",
       "      <th>benefits</th>\n",
       "      <th>telecommuting</th>\n",
       "      <th>has_company_logo</th>\n",
       "      <th>has_questions</th>\n",
       "      <th>employment_type</th>\n",
       "      <th>required_experience</th>\n",
       "      <th>required_education</th>\n",
       "      <th>industry</th>\n",
       "      <th>function</th>\n",
       "      <th>fraudulent</th>\n",
       "    </tr>\n",
       "    <tr>\n",
       "      <th>job_id</th>\n",
       "      <th></th>\n",
       "      <th></th>\n",
       "      <th></th>\n",
       "      <th></th>\n",
       "      <th></th>\n",
       "      <th></th>\n",
       "      <th></th>\n",
       "      <th></th>\n",
       "      <th></th>\n",
       "      <th></th>\n",
       "      <th></th>\n",
       "      <th></th>\n",
       "      <th></th>\n",
       "      <th></th>\n",
       "      <th></th>\n",
       "      <th></th>\n",
       "      <th></th>\n",
       "    </tr>\n",
       "  </thead>\n",
       "  <tbody>\n",
       "    <tr>\n",
       "      <td>99</td>\n",
       "      <td>IC&amp;E Technician</td>\n",
       "      <td>US, , Stocton, CA</td>\n",
       "      <td>Oil &amp; Energy</td>\n",
       "      <td>95000-115000</td>\n",
       "      <td>...</td>\n",
       "      <td>IC&amp;amp;E Technician | Bakersfield, CA Mt. Poso...</td>\n",
       "      <td>QualificationsKnowledge, Skills &amp;amp; Abilitie...</td>\n",
       "      <td>BENEFITSWhat is offered:Competitive compensati...</td>\n",
       "      <td>0</td>\n",
       "      <td>1</td>\n",
       "      <td>1</td>\n",
       "      <td>Full-time</td>\n",
       "      <td>Mid-Senior level</td>\n",
       "      <td>High School or equivalent</td>\n",
       "      <td>Oil &amp; Energy</td>\n",
       "      <td>Other</td>\n",
       "      <td>1</td>\n",
       "    </tr>\n",
       "    <tr>\n",
       "      <td>145</td>\n",
       "      <td>Forward Cap.</td>\n",
       "      <td>NaN</td>\n",
       "      <td>NaN</td>\n",
       "      <td>NaN</td>\n",
       "      <td>NaN</td>\n",
       "      <td>The group has raised a fund for the purchase o...</td>\n",
       "      <td>NaN</td>\n",
       "      <td>NaN</td>\n",
       "      <td>0</td>\n",
       "      <td>0</td>\n",
       "      <td>0</td>\n",
       "      <td>NaN</td>\n",
       "      <td>NaN</td>\n",
       "      <td>NaN</td>\n",
       "      <td>NaN</td>\n",
       "      <td>NaN</td>\n",
       "      <td>1</td>\n",
       "    </tr>\n",
       "    <tr>\n",
       "      <td>174</td>\n",
       "      <td>Technician Instrument &amp; Controls</td>\n",
       "      <td>US</td>\n",
       "      <td>Power Plant &amp; Energy</td>\n",
       "      <td>NaN</td>\n",
       "      <td>Edison International and Refined Resources hav...</td>\n",
       "      <td>Technician Instrument &amp;amp; ControlsLocation D...</td>\n",
       "      <td>JOB QUALIFICATIONS-Ability to understand proce...</td>\n",
       "      <td>we are a team of almost 8,000 employees who he...</td>\n",
       "      <td>0</td>\n",
       "      <td>1</td>\n",
       "      <td>1</td>\n",
       "      <td>Full-time</td>\n",
       "      <td>Mid-Senior level</td>\n",
       "      <td>Certification</td>\n",
       "      <td>Electrical/Electronic Manufacturing</td>\n",
       "      <td>Other</td>\n",
       "      <td>1</td>\n",
       "    </tr>\n",
       "    <tr>\n",
       "      <td>181</td>\n",
       "      <td>Sales Executive</td>\n",
       "      <td>PK, SD, Karachi</td>\n",
       "      <td>Sales</td>\n",
       "      <td>NaN</td>\n",
       "      <td>NaN</td>\n",
       "      <td>Sales Executive</td>\n",
       "      <td>Sales Executive</td>\n",
       "      <td>Sales Executive</td>\n",
       "      <td>0</td>\n",
       "      <td>0</td>\n",
       "      <td>0</td>\n",
       "      <td>NaN</td>\n",
       "      <td>NaN</td>\n",
       "      <td>NaN</td>\n",
       "      <td>NaN</td>\n",
       "      <td>Sales</td>\n",
       "      <td>1</td>\n",
       "    </tr>\n",
       "    <tr>\n",
       "      <td>216</td>\n",
       "      <td>IC&amp;E Technician Mt Poso</td>\n",
       "      <td>US, CA, Bakersfield, CA / Mt. Poso</td>\n",
       "      <td>Oil &amp; Energy</td>\n",
       "      <td>95000-115000</td>\n",
       "      <td>...</td>\n",
       "      <td>IC&amp;amp;E Technician | Bakersfield, CA Mt. Poso...</td>\n",
       "      <td>QualificationsKnowledge, Skills &amp;amp; Abiliti...</td>\n",
       "      <td>BENEFITSWhat is offered:Competitive compensati...</td>\n",
       "      <td>0</td>\n",
       "      <td>1</td>\n",
       "      <td>1</td>\n",
       "      <td>Full-time</td>\n",
       "      <td>Mid-Senior level</td>\n",
       "      <td>High School or equivalent</td>\n",
       "      <td>Oil &amp; Energy</td>\n",
       "      <td>Other</td>\n",
       "      <td>1</td>\n",
       "    </tr>\n",
       "    <tr>\n",
       "      <td>358</td>\n",
       "      <td>Financing Auto(car) sales</td>\n",
       "      <td>US, IL, hazelcrest</td>\n",
       "      <td>hr</td>\n",
       "      <td>35000-73000</td>\n",
       "      <td>Looking for adventurous people to join a thriv...</td>\n",
       "      <td>If you have experience in financing for auto s...</td>\n",
       "      <td>prior car sales expprior car loan financing exp</td>\n",
       "      <td>profit sharingcar allowancecompany car</td>\n",
       "      <td>0</td>\n",
       "      <td>0</td>\n",
       "      <td>0</td>\n",
       "      <td>Contract</td>\n",
       "      <td>Associate</td>\n",
       "      <td>NaN</td>\n",
       "      <td>Automotive</td>\n",
       "      <td>NaN</td>\n",
       "      <td>1</td>\n",
       "    </tr>\n",
       "    <tr>\n",
       "      <td>494</td>\n",
       "      <td>Admin Assistant/ Receptionist</td>\n",
       "      <td>US, CA, Los Angeles</td>\n",
       "      <td>NaN</td>\n",
       "      <td>23040-28800</td>\n",
       "      <td>NaN</td>\n",
       "      <td>A Newly established company seeks outgoing, fr...</td>\n",
       "      <td>Must have good knowledge of Outlook, Microsoft...</td>\n",
       "      <td>NaN</td>\n",
       "      <td>0</td>\n",
       "      <td>0</td>\n",
       "      <td>0</td>\n",
       "      <td>Full-time</td>\n",
       "      <td>Entry level</td>\n",
       "      <td>High School or equivalent</td>\n",
       "      <td>Computer Software</td>\n",
       "      <td>Administrative</td>\n",
       "      <td>1</td>\n",
       "    </tr>\n",
       "    <tr>\n",
       "      <td>538</td>\n",
       "      <td>Technology Consultant - Outside Sales</td>\n",
       "      <td>US, OH,</td>\n",
       "      <td>NaN</td>\n",
       "      <td>NaN</td>\n",
       "      <td>NaN</td>\n",
       "      <td>Apply below using link#URL_00962c0bdac3ecf40b2...</td>\n",
       "      <td>NaN</td>\n",
       "      <td>NaN</td>\n",
       "      <td>0</td>\n",
       "      <td>0</td>\n",
       "      <td>0</td>\n",
       "      <td>Full-time</td>\n",
       "      <td>NaN</td>\n",
       "      <td>NaN</td>\n",
       "      <td>Information Technology and Services</td>\n",
       "      <td>NaN</td>\n",
       "      <td>1</td>\n",
       "    </tr>\n",
       "    <tr>\n",
       "      <td>574</td>\n",
       "      <td>Senior Engineering Product Manager</td>\n",
       "      <td>US, CA, San Jose</td>\n",
       "      <td>Engineering</td>\n",
       "      <td>NaN</td>\n",
       "      <td>Aptitude Staffing Solutions has redesigned the...</td>\n",
       "      <td>Senior Engineering Product ManagerAs a member ...</td>\n",
       "      <td>Skills and Requirements MSEE with 5 years of e...</td>\n",
       "      <td>What is offered:Broad responsibility, autonomy...</td>\n",
       "      <td>0</td>\n",
       "      <td>1</td>\n",
       "      <td>1</td>\n",
       "      <td>Full-time</td>\n",
       "      <td>Mid-Senior level</td>\n",
       "      <td>Bachelor's Degree</td>\n",
       "      <td>Computer Networking</td>\n",
       "      <td>Engineering</td>\n",
       "      <td>1</td>\n",
       "    </tr>\n",
       "    <tr>\n",
       "      <td>585</td>\n",
       "      <td>Quality Improvement Manager</td>\n",
       "      <td>US, FL,</td>\n",
       "      <td>NaN</td>\n",
       "      <td>NaN</td>\n",
       "      <td>NaN</td>\n",
       "      <td>Apply using below link#URL_8b28dea5804b323e29d...</td>\n",
       "      <td>NaN</td>\n",
       "      <td>NaN</td>\n",
       "      <td>0</td>\n",
       "      <td>0</td>\n",
       "      <td>0</td>\n",
       "      <td>Full-time</td>\n",
       "      <td>NaN</td>\n",
       "      <td>NaN</td>\n",
       "      <td>Hospital &amp; Health Care</td>\n",
       "      <td>NaN</td>\n",
       "      <td>1</td>\n",
       "    </tr>\n",
       "    <tr>\n",
       "      <td>604</td>\n",
       "      <td>Lead Mechanical Engineer</td>\n",
       "      <td>US, TX, Houston</td>\n",
       "      <td>NaN</td>\n",
       "      <td>NaN</td>\n",
       "      <td>Aker Solutions is a global provider of product...</td>\n",
       "      <td>Corporate overviewAker Solutions is a global p...</td>\n",
       "      <td>Qualifications &amp;amp; personal attributes• Mech...</td>\n",
       "      <td>We offer• Friendly colleagues in an industry w...</td>\n",
       "      <td>0</td>\n",
       "      <td>1</td>\n",
       "      <td>0</td>\n",
       "      <td>Full-time</td>\n",
       "      <td>NaN</td>\n",
       "      <td>NaN</td>\n",
       "      <td>Oil &amp; Energy</td>\n",
       "      <td>Engineering</td>\n",
       "      <td>1</td>\n",
       "    </tr>\n",
       "    <tr>\n",
       "      <td>607</td>\n",
       "      <td>Director of Strategy</td>\n",
       "      <td>US, CA, San Mateo</td>\n",
       "      <td>Engineering</td>\n",
       "      <td>NaN</td>\n",
       "      <td>Bright Edge and Aptitude Staffing Solutions ha...</td>\n",
       "      <td>Director of Strategy | San Mateo, CA Intereste...</td>\n",
       "      <td>Requirements:Previous experience at a top-tier...</td>\n",
       "      <td>NaN</td>\n",
       "      <td>0</td>\n",
       "      <td>1</td>\n",
       "      <td>1</td>\n",
       "      <td>Full-time</td>\n",
       "      <td>NaN</td>\n",
       "      <td>Bachelor's Degree</td>\n",
       "      <td>Information Technology and Services</td>\n",
       "      <td>Engineering</td>\n",
       "      <td>1</td>\n",
       "    </tr>\n",
       "    <tr>\n",
       "      <td>629</td>\n",
       "      <td>UST Testing Technician II</td>\n",
       "      <td>US, CA, Bakersfield</td>\n",
       "      <td>Oil &amp; Energy</td>\n",
       "      <td>65000-75000</td>\n",
       "      <td>Jaco Oil and Refined Resources have partnered ...</td>\n",
       "      <td>Qualified candidates are encouraged to apply d...</td>\n",
       "      <td>Job site set-up.Loading and unloading of equip...</td>\n",
       "      <td>Competitive compensation package including bas...</td>\n",
       "      <td>0</td>\n",
       "      <td>1</td>\n",
       "      <td>1</td>\n",
       "      <td>Full-time</td>\n",
       "      <td>Mid-Senior level</td>\n",
       "      <td>Certification</td>\n",
       "      <td>Oil &amp; Energy</td>\n",
       "      <td>Other</td>\n",
       "      <td>1</td>\n",
       "    </tr>\n",
       "    <tr>\n",
       "      <td>662</td>\n",
       "      <td>Director of Strategy</td>\n",
       "      <td>US, CA, San Mateo</td>\n",
       "      <td>Engineering</td>\n",
       "      <td>NaN</td>\n",
       "      <td>Aptitude Staffing Solutions has redesigned the...</td>\n",
       "      <td>Director of Strategy | San Mateo, CA Intereste...</td>\n",
       "      <td>Requirements:Previous experience at a top-tier...</td>\n",
       "      <td>NaN</td>\n",
       "      <td>0</td>\n",
       "      <td>1</td>\n",
       "      <td>1</td>\n",
       "      <td>Full-time</td>\n",
       "      <td>NaN</td>\n",
       "      <td>Bachelor's Degree</td>\n",
       "      <td>Information Technology and Services</td>\n",
       "      <td>Engineering</td>\n",
       "      <td>1</td>\n",
       "    </tr>\n",
       "    <tr>\n",
       "      <td>741</td>\n",
       "      <td>Health + Safety Professional</td>\n",
       "      <td>US, CA, Bakersfield</td>\n",
       "      <td>HSE (Health Safety Environmental)</td>\n",
       "      <td>80000-120000</td>\n",
       "      <td>...</td>\n",
       "      <td>Health &amp;amp; Safety Professional | Bakersfield...</td>\n",
       "      <td>Duties and Responsibilities:Provides safety po...</td>\n",
       "      <td>What is offered:Competitive compensation packa...</td>\n",
       "      <td>0</td>\n",
       "      <td>1</td>\n",
       "      <td>1</td>\n",
       "      <td>Full-time</td>\n",
       "      <td>Mid-Senior level</td>\n",
       "      <td>Bachelor's Degree</td>\n",
       "      <td>Oil &amp; Energy</td>\n",
       "      <td>Other</td>\n",
       "      <td>1</td>\n",
       "    </tr>\n",
       "  </tbody>\n",
       "</table>\n",
       "</div>"
      ],
      "text/plain": [
       "                                          title  \\\n",
       "job_id                                            \n",
       "99                              IC&E Technician   \n",
       "145                                Forward Cap.   \n",
       "174           Technician Instrument & Controls    \n",
       "181                             Sales Executive   \n",
       "216                     IC&E Technician Mt Poso   \n",
       "358                   Financing Auto(car) sales   \n",
       "494              Admin Assistant/ Receptionist    \n",
       "538     Technology Consultant - Outside Sales     \n",
       "574          Senior Engineering Product Manager   \n",
       "585                Quality Improvement Manager    \n",
       "604                    Lead Mechanical Engineer   \n",
       "607                        Director of Strategy   \n",
       "629                  UST Testing Technician II    \n",
       "662                        Director of Strategy   \n",
       "741                Health + Safety Professional   \n",
       "\n",
       "                                  location                         department  \\\n",
       "job_id                                                                          \n",
       "99                       US, , Stocton, CA                       Oil & Energy   \n",
       "145                                    NaN                                NaN   \n",
       "174                                     US               Power Plant & Energy   \n",
       "181                        PK, SD, Karachi                              Sales   \n",
       "216     US, CA, Bakersfield, CA / Mt. Poso                       Oil & Energy   \n",
       "358                     US, IL, hazelcrest                                 hr   \n",
       "494                    US, CA, Los Angeles                                NaN   \n",
       "538                               US, OH,                                 NaN   \n",
       "574                       US, CA, San Jose                        Engineering   \n",
       "585                               US, FL,                                 NaN   \n",
       "604                        US, TX, Houston                                NaN   \n",
       "607                      US, CA, San Mateo                        Engineering   \n",
       "629                    US, CA, Bakersfield                      Oil & Energy    \n",
       "662                      US, CA, San Mateo                        Engineering   \n",
       "741                    US, CA, Bakersfield  HSE (Health Safety Environmental)   \n",
       "\n",
       "        salary_range                                    company_profile  \\\n",
       "job_id                                                                    \n",
       "99      95000-115000                                                ...   \n",
       "145              NaN                                                NaN   \n",
       "174              NaN  Edison International and Refined Resources hav...   \n",
       "181              NaN                                                NaN   \n",
       "216     95000-115000                                                ...   \n",
       "358      35000-73000  Looking for adventurous people to join a thriv...   \n",
       "494      23040-28800                                                NaN   \n",
       "538              NaN                                                NaN   \n",
       "574              NaN  Aptitude Staffing Solutions has redesigned the...   \n",
       "585              NaN                                                NaN   \n",
       "604              NaN  Aker Solutions is a global provider of product...   \n",
       "607              NaN  Bright Edge and Aptitude Staffing Solutions ha...   \n",
       "629      65000-75000  Jaco Oil and Refined Resources have partnered ...   \n",
       "662              NaN  Aptitude Staffing Solutions has redesigned the...   \n",
       "741     80000-120000                                                ...   \n",
       "\n",
       "                                              description  \\\n",
       "job_id                                                      \n",
       "99      IC&amp;E Technician | Bakersfield, CA Mt. Poso...   \n",
       "145     The group has raised a fund for the purchase o...   \n",
       "174     Technician Instrument &amp; ControlsLocation D...   \n",
       "181                                       Sales Executive   \n",
       "216     IC&amp;E Technician | Bakersfield, CA Mt. Poso...   \n",
       "358     If you have experience in financing for auto s...   \n",
       "494     A Newly established company seeks outgoing, fr...   \n",
       "538     Apply below using link#URL_00962c0bdac3ecf40b2...   \n",
       "574     Senior Engineering Product ManagerAs a member ...   \n",
       "585     Apply using below link#URL_8b28dea5804b323e29d...   \n",
       "604     Corporate overviewAker Solutions is a global p...   \n",
       "607     Director of Strategy | San Mateo, CA Intereste...   \n",
       "629     Qualified candidates are encouraged to apply d...   \n",
       "662     Director of Strategy | San Mateo, CA Intereste...   \n",
       "741     Health &amp; Safety Professional | Bakersfield...   \n",
       "\n",
       "                                             requirements  \\\n",
       "job_id                                                      \n",
       "99      QualificationsKnowledge, Skills &amp; Abilitie...   \n",
       "145                                                   NaN   \n",
       "174     JOB QUALIFICATIONS-Ability to understand proce...   \n",
       "181                                       Sales Executive   \n",
       "216      QualificationsKnowledge, Skills &amp; Abiliti...   \n",
       "358       prior car sales expprior car loan financing exp   \n",
       "494     Must have good knowledge of Outlook, Microsoft...   \n",
       "538                                                   NaN   \n",
       "574     Skills and Requirements MSEE with 5 years of e...   \n",
       "585                                                   NaN   \n",
       "604     Qualifications &amp; personal attributes• Mech...   \n",
       "607     Requirements:Previous experience at a top-tier...   \n",
       "629     Job site set-up.Loading and unloading of equip...   \n",
       "662     Requirements:Previous experience at a top-tier...   \n",
       "741     Duties and Responsibilities:Provides safety po...   \n",
       "\n",
       "                                                 benefits  telecommuting  \\\n",
       "job_id                                                                     \n",
       "99      BENEFITSWhat is offered:Competitive compensati...              0   \n",
       "145                                                   NaN              0   \n",
       "174     we are a team of almost 8,000 employees who he...              0   \n",
       "181                                       Sales Executive              0   \n",
       "216     BENEFITSWhat is offered:Competitive compensati...              0   \n",
       "358                profit sharingcar allowancecompany car              0   \n",
       "494                                                   NaN              0   \n",
       "538                                                   NaN              0   \n",
       "574     What is offered:Broad responsibility, autonomy...              0   \n",
       "585                                                   NaN              0   \n",
       "604     We offer• Friendly colleagues in an industry w...              0   \n",
       "607                                                   NaN              0   \n",
       "629     Competitive compensation package including bas...              0   \n",
       "662                                                   NaN              0   \n",
       "741     What is offered:Competitive compensation packa...              0   \n",
       "\n",
       "        has_company_logo  has_questions employment_type required_experience  \\\n",
       "job_id                                                                        \n",
       "99                     1              1       Full-time    Mid-Senior level   \n",
       "145                    0              0             NaN                 NaN   \n",
       "174                    1              1       Full-time    Mid-Senior level   \n",
       "181                    0              0             NaN                 NaN   \n",
       "216                    1              1       Full-time    Mid-Senior level   \n",
       "358                    0              0        Contract           Associate   \n",
       "494                    0              0       Full-time         Entry level   \n",
       "538                    0              0       Full-time                 NaN   \n",
       "574                    1              1       Full-time    Mid-Senior level   \n",
       "585                    0              0       Full-time                 NaN   \n",
       "604                    1              0       Full-time                 NaN   \n",
       "607                    1              1       Full-time                 NaN   \n",
       "629                    1              1       Full-time    Mid-Senior level   \n",
       "662                    1              1       Full-time                 NaN   \n",
       "741                    1              1       Full-time    Mid-Senior level   \n",
       "\n",
       "               required_education                             industry  \\\n",
       "job_id                                                                   \n",
       "99      High School or equivalent                         Oil & Energy   \n",
       "145                           NaN                                  NaN   \n",
       "174                 Certification  Electrical/Electronic Manufacturing   \n",
       "181                           NaN                                  NaN   \n",
       "216     High School or equivalent                         Oil & Energy   \n",
       "358                           NaN                           Automotive   \n",
       "494     High School or equivalent                    Computer Software   \n",
       "538                           NaN  Information Technology and Services   \n",
       "574             Bachelor's Degree                  Computer Networking   \n",
       "585                           NaN               Hospital & Health Care   \n",
       "604                           NaN                         Oil & Energy   \n",
       "607             Bachelor's Degree  Information Technology and Services   \n",
       "629                 Certification                         Oil & Energy   \n",
       "662             Bachelor's Degree  Information Technology and Services   \n",
       "741             Bachelor's Degree                         Oil & Energy   \n",
       "\n",
       "              function  fraudulent  \n",
       "job_id                              \n",
       "99               Other           1  \n",
       "145                NaN           1  \n",
       "174              Other           1  \n",
       "181              Sales           1  \n",
       "216              Other           1  \n",
       "358                NaN           1  \n",
       "494     Administrative           1  \n",
       "538                NaN           1  \n",
       "574        Engineering           1  \n",
       "585                NaN           1  \n",
       "604        Engineering           1  \n",
       "607        Engineering           1  \n",
       "629              Other           1  \n",
       "662        Engineering           1  \n",
       "741              Other           1  "
      ]
     },
     "execution_count": 24,
     "metadata": {},
     "output_type": "execute_result"
    }
   ],
   "source": [
    "frauds.head(15)"
   ]
  },
  {
   "cell_type": "code",
   "execution_count": 15,
   "metadata": {},
   "outputs": [
    {
     "data": {
      "text/plain": [
       "0.1859122401847575"
      ]
     },
     "execution_count": 15,
     "metadata": {},
     "output_type": "execute_result"
    }
   ],
   "source": [
    "frauds['location'].str.contains('CA').sum()/len(frauds)"
   ]
  },
  {
   "cell_type": "code",
   "execution_count": 21,
   "metadata": {},
   "outputs": [
    {
     "data": {
      "text/plain": [
       "0.07852193995381063"
      ]
     },
     "execution_count": 21,
     "metadata": {},
     "output_type": "execute_result"
    }
   ],
   "source": [
    "frauds['location'].str.contains('NY').sum()/len(frauds)"
   ]
  },
  {
   "cell_type": "code",
   "execution_count": 22,
   "metadata": {},
   "outputs": [
    {
     "data": {
      "text/plain": [
       "0.17551963048498845"
      ]
     },
     "execution_count": 22,
     "metadata": {},
     "output_type": "execute_result"
    }
   ],
   "source": [
    "frauds['location'].str.contains('TX').sum()/len(frauds)"
   ]
  },
  {
   "cell_type": "code",
   "execution_count": 25,
   "metadata": {},
   "outputs": [
    {
     "data": {
      "text/plain": [
       "0.02424942263279446"
      ]
     },
     "execution_count": 25,
     "metadata": {},
     "output_type": "execute_result"
    }
   ],
   "source": [
    "frauds['location'].str.contains('IL').sum()/len(frauds)"
   ]
  },
  {
   "cell_type": "code",
   "execution_count": 31,
   "metadata": {},
   "outputs": [],
   "source": [
    "def stater(colval):\n",
    "    ans = 0\n",
    "    states = ['CA', 'NY', 'TX']\n",
    "    for state in states:\n",
    "        if state in colval:\n",
    "            ans = 1\n",
    "    return ans"
   ]
  },
  {
   "cell_type": "code",
   "execution_count": 58,
   "metadata": {},
   "outputs": [],
   "source": [
    "jobs_clean = jobs.dropna(subset=['location', 'description'])"
   ]
  },
  {
   "cell_type": "code",
   "execution_count": 59,
   "metadata": {},
   "outputs": [
    {
     "name": "stderr",
     "output_type": "stream",
     "text": [
      "/Users/jacobkoehler/opt/anaconda3/lib/python3.7/site-packages/pandas/core/generic.py:5208: SettingWithCopyWarning: \n",
      "A value is trying to be set on a copy of a slice from a DataFrame.\n",
      "Try using .loc[row_indexer,col_indexer] = value instead\n",
      "\n",
      "See the caveats in the documentation: http://pandas.pydata.org/pandas-docs/stable/user_guide/indexing.html#returning-a-view-versus-a-copy\n",
      "  self[name] = value\n"
     ]
    }
   ],
   "source": [
    "jobs_clean.location = jobs_clean['location'].apply(stater)"
   ]
  },
  {
   "cell_type": "code",
   "execution_count": 128,
   "metadata": {},
   "outputs": [],
   "source": [
    "from sklearn.feature_extraction.text import CountVectorizer, TfidfVectorizer"
   ]
  },
  {
   "cell_type": "code",
   "execution_count": 129,
   "metadata": {},
   "outputs": [],
   "source": [
    "cvect = TfidfVectorizer(stop_words = 'english', max_features = 2000)"
   ]
  },
  {
   "cell_type": "code",
   "execution_count": 130,
   "metadata": {},
   "outputs": [],
   "source": [
    "x2 = cvect.fit_transform(jobs_clean['description'])"
   ]
  },
  {
   "cell_type": "code",
   "execution_count": 131,
   "metadata": {},
   "outputs": [],
   "source": [
    "x1 = pd.DataFrame(x2.toarray(), columns = cvect.get_feature_names())"
   ]
  },
  {
   "cell_type": "code",
   "execution_count": 132,
   "metadata": {},
   "outputs": [
    {
     "data": {
      "text/plain": [
       "(17533, 2000)"
      ]
     },
     "execution_count": 132,
     "metadata": {},
     "output_type": "execute_result"
    }
   ],
   "source": [
    "x1.shape"
   ]
  },
  {
   "cell_type": "code",
   "execution_count": 133,
   "metadata": {},
   "outputs": [
    {
     "data": {
      "text/plain": [
       "(17533,)"
      ]
     },
     "execution_count": 133,
     "metadata": {},
     "output_type": "execute_result"
    }
   ],
   "source": [
    "jobs_clean.location.shape"
   ]
  },
  {
   "cell_type": "code",
   "execution_count": 134,
   "metadata": {},
   "outputs": [],
   "source": [
    "x1['location'] = jobs_clean.location"
   ]
  },
  {
   "cell_type": "code",
   "execution_count": 135,
   "metadata": {},
   "outputs": [],
   "source": [
    "x1['fraud'] = jobs_clean.fraudulent"
   ]
  },
  {
   "cell_type": "code",
   "execution_count": 136,
   "metadata": {},
   "outputs": [],
   "source": [
    "x1 = x1.dropna()"
   ]
  },
  {
   "cell_type": "code",
   "execution_count": 137,
   "metadata": {},
   "outputs": [],
   "source": [
    "X = x1.drop('fraud', axis = 1)\n",
    "y = x1.fraud"
   ]
  },
  {
   "cell_type": "code",
   "execution_count": 138,
   "metadata": {},
   "outputs": [],
   "source": [
    "from sklearn.model_selection import train_test_split"
   ]
  },
  {
   "cell_type": "code",
   "execution_count": 139,
   "metadata": {},
   "outputs": [],
   "source": [
    "X_train, X_test, y_train, y_test = train_test_split(X, y, stratify = y)"
   ]
  },
  {
   "cell_type": "code",
   "execution_count": 140,
   "metadata": {},
   "outputs": [],
   "source": [
    "from sklearn.ensemble import RandomForestClassifier\n",
    "from sklearn.svm import SVC\n",
    "from sklearn.neighbors import KNeighborsClassifier\n",
    "from sklearn.linear_model import LogisticRegression"
   ]
  },
  {
   "cell_type": "code",
   "execution_count": 141,
   "metadata": {},
   "outputs": [],
   "source": [
    "forest = RandomForestClassifier(n_estimators=200, max_depth = 2)"
   ]
  },
  {
   "cell_type": "code",
   "execution_count": 142,
   "metadata": {},
   "outputs": [
    {
     "data": {
      "text/plain": [
       "RandomForestClassifier(max_depth=2, n_estimators=200)"
      ]
     },
     "execution_count": 142,
     "metadata": {},
     "output_type": "execute_result"
    }
   ],
   "source": [
    "forest.fit(X_train, y_train)"
   ]
  },
  {
   "cell_type": "code",
   "execution_count": 143,
   "metadata": {},
   "outputs": [
    {
     "data": {
      "text/plain": [
       "0.9678995115143056"
      ]
     },
     "execution_count": 143,
     "metadata": {},
     "output_type": "execute_result"
    }
   ],
   "source": [
    "forest.score(X_test, y_test)"
   ]
  },
  {
   "cell_type": "code",
   "execution_count": 123,
   "metadata": {},
   "outputs": [
    {
     "data": {
      "text/plain": [
       "0.0    0.9679\n",
       "1.0    0.0321\n",
       "Name: fraud, dtype: float64"
      ]
     },
     "execution_count": 123,
     "metadata": {},
     "output_type": "execute_result"
    }
   ],
   "source": [
    "#y_testLogisticRegressione_counts(normalize = True)"
   ]
  },
  {
   "cell_type": "code",
   "execution_count": 124,
   "metadata": {},
   "outputs": [],
   "source": [
    "svc = SVC()"
   ]
  },
  {
   "cell_type": "code",
   "execution_count": 125,
   "metadata": {},
   "outputs": [
    {
     "data": {
      "text/plain": [
       "SVC()"
      ]
     },
     "execution_count": 125,
     "metadata": {},
     "output_type": "execute_result"
    }
   ],
   "source": [
    "svc.fit(X_train, y_train)"
   ]
  },
  {
   "cell_type": "code",
   "execution_count": 126,
   "metadata": {},
   "outputs": [
    {
     "data": {
      "text/plain": [
       "0.9678995115143056"
      ]
     },
     "execution_count": 126,
     "metadata": {},
     "output_type": "execute_result"
    }
   ],
   "source": [
    "svc.score(X_test, y_test)"
   ]
  },
  {
   "cell_type": "code",
   "execution_count": 144,
   "metadata": {},
   "outputs": [
    {
     "data": {
      "text/plain": [
       "0.9678995115143056"
      ]
     },
     "execution_count": 144,
     "metadata": {},
     "output_type": "execute_result"
    }
   ],
   "source": [
    "lgr = LogisticRegression()\n",
    "lgr.fit(X_train, y_train)\n",
    "lgr.score(X_test, y_test)"
   ]
  },
  {
   "cell_type": "code",
   "execution_count": null,
   "metadata": {},
   "outputs": [],
   "source": []
  }
 ],
 "metadata": {
  "kernelspec": {
   "display_name": "Python 3",
   "language": "python",
   "name": "python3"
  },
  "language_info": {
   "codemirror_mode": {
    "name": "ipython",
    "version": 3
   },
   "file_extension": ".py",
   "mimetype": "text/x-python",
   "name": "python",
   "nbconvert_exporter": "python",
   "pygments_lexer": "ipython3",
   "version": "3.7.4"
  }
 },
 "nbformat": 4,
 "nbformat_minor": 4
}
