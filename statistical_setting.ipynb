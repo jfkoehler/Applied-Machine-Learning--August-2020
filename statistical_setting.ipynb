{
 "cells": [
  {
   "cell_type": "code",
   "execution_count": 1,
   "metadata": {},
   "outputs": [],
   "source": [
    "import matplotlib.pyplot as plt\n",
    "from mpl_toolkits.mplot3d import Axes3D\n",
    "import numpy as np\n",
    "from ipywidgets import interact\n",
    "import ipywidgets as widgets\n",
    "from scipy import stats\n",
    "from statsplots import one_d_plotter, two_d_plotter"
   ]
  },
  {
   "cell_type": "code",
   "execution_count": 2,
   "metadata": {},
   "outputs": [
    {
     "data": {
      "application/vnd.jupyter.widget-view+json": {
       "model_id": "beb7e6ec67494da0ae96665b6543075b",
       "version_major": 2,
       "version_minor": 0
      },
      "text/plain": [
       "interactive(children=(FloatSlider(value=0.0, description='pop_mean', max=2.0, min=-2.0), FloatSlider(value=0.0…"
      ]
     },
     "metadata": {},
     "output_type": "display_data"
    }
   ],
   "source": [
    "interact(one_d_plotter, pop_mean = widgets.FloatSlider(min = -2, max = 2, step = 0.1),\n",
    "        sample_mean = widgets.FloatSlider(min = -2, max = 2, step = 0.1),\n",
    "        i = widgets.IntSlider(25, min = 0, max = 360, step = 1),\n",
    "        j = widgets.IntSlider(50, min = 0, max = 360, step = 1));"
   ]
  },
  {
   "cell_type": "code",
   "execution_count": null,
   "metadata": {
    "jupyter": {
     "source_hidden": true
    }
   },
   "outputs": [],
   "source": [
    "def two_d_plotter(vmean, i, j):    \n",
    "    fig = plt.figure()\n",
    "    ax = fig.add_subplot(111, projection = '3d')\n",
    "\n",
    "    y1 = np.random.normal(loc = vmean, scale = 1, size = 10_000)\n",
    "    y2 = np.random.normal(loc = vmean+1, scale = 1, size = 10_000)\n",
    "    y3 = np.random.normal(loc = vmean+2, scale = 1, size = 10_000)\n",
    "\n",
    "    hist1, bins1 = np.histogram(y1, bins = 30)\n",
    "    hist2, bins2 = np.histogram(y2, bins = 30)\n",
    "    hist3, bins3 = np.histogram(y3, bins = 30)\n",
    "\n",
    "    x1 = (bins1[:-1] + bins1[1:])/2\n",
    "    x2 = (bins2[:-1] + bins2[1:])/2\n",
    "    x3 = (bins3[:-1] + bins3[1:])/2\n",
    "    \n",
    "    ax.bar(x1, hist1, zs=0, zdir='y', color=c, ec=c, alpha=0.8)\n",
    "    ax.bar(x2, hist2, zs = 1, zdir = 'y', color = c, ec = c, alpha = 0.8)\n",
    "    ax.bar(x3, hist3, zs=2, zdir='y', color=c, ec=c, alpha=0.8)\n",
    "#     ax.bar(x2, hist2, zs = 1, zdir = 'y')\n",
    "#     ax.plot(np.zeros(len(x1)), np.ones(len(x1))*np.mean(x1), np.zeros(len(x2)), color = 'red')\n",
    "    ax.set_ylim(-1, 1)\n",
    "    ax._axis3don = False\n",
    "    ax.view_init(i, j)\n",
    "    #ax.set_title('Linear Regression Setting')\n",
    "    plt.title('$\\mu_y = b_0 + b_1 * x$')"
   ]
  },
  {
   "cell_type": "code",
   "execution_count": null,
   "metadata": {},
   "outputs": [],
   "source": [
    "two_d_plotter(3, 25, 50)"
   ]
  },
  {
   "cell_type": "markdown",
   "metadata": {},
   "source": [
    "### Example\n",
    "\n",
    "Consider a linear model for decrease in blood pressure over a four-week period with $\\mu_y = 2.8 + 0.8x$ and standard deviation $\\sigma = 3.2$.  The explanatory variable $x$ is the number of servings of fruits and vegetables in a controlled diet."
   ]
  },
  {
   "cell_type": "code",
   "execution_count": null,
   "metadata": {},
   "outputs": [],
   "source": []
  },
  {
   "cell_type": "code",
   "execution_count": null,
   "metadata": {},
   "outputs": [],
   "source": []
  },
  {
   "cell_type": "code",
   "execution_count": null,
   "metadata": {},
   "outputs": [],
   "source": []
  },
  {
   "cell_type": "code",
   "execution_count": null,
   "metadata": {},
   "outputs": [],
   "source": []
  },
  {
   "cell_type": "markdown",
   "metadata": {},
   "source": [
    "### The Statistical Framing\n",
    "\n",
    "$$y_i = \\beta_0 + \\beta_1x_i +  \\epsilon_i$$\n",
    "\n",
    "where $\\epsilon$ reprent the errors and we have some assumptions about these:\n",
    "\n",
    "- they are *iid*(independent and identically distributed)\n",
    "- they are roughly normally distributed with mean 0\n",
    "- the normal distribution has standard deviation $\\sigma$"
   ]
  },
  {
   "cell_type": "code",
   "execution_count": null,
   "metadata": {},
   "outputs": [],
   "source": [
    "from sklearn.linear_model import LinearRegression\n",
    "import statsmodels.api as sm"
   ]
  },
  {
   "cell_type": "code",
   "execution_count": null,
   "metadata": {},
   "outputs": [],
   "source": [
    "duncan_prestige = sm.datasets.get_rdataset(\"Duncan\", \"carData\")"
   ]
  },
  {
   "cell_type": "code",
   "execution_count": null,
   "metadata": {},
   "outputs": [],
   "source": [
    "df = duncan_prestige.data"
   ]
  },
  {
   "cell_type": "code",
   "execution_count": null,
   "metadata": {},
   "outputs": [],
   "source": [
    "df.info()"
   ]
  },
  {
   "cell_type": "code",
   "execution_count": null,
   "metadata": {},
   "outputs": [],
   "source": [
    "df.head()"
   ]
  },
  {
   "cell_type": "code",
   "execution_count": null,
   "metadata": {},
   "outputs": [],
   "source": [
    "#build a linear model with education as input and\n",
    "#prestige as target\n"
   ]
  },
  {
   "cell_type": "code",
   "execution_count": null,
   "metadata": {},
   "outputs": [],
   "source": [
    "#make predictions for each data point\n"
   ]
  },
  {
   "cell_type": "markdown",
   "metadata": {},
   "source": [
    "### Residuals\n",
    "\n",
    "The **residual** of our model is the error in our predictions.  Specifically, we have:\n",
    "\n",
    "$$\\begin{align}\n",
    "e_i = \\text{observed} - \\text{predicted}  \\\\\n",
    "  = y_i - \\hat{y_i}  \\\\\n",
    " = y_i - (b_0 + b_1x_i)\n",
    " \\end{align}$$\n",
    " \n",
    "We use these residuals to understand the error in the model, specifically to determine $\\sigma$ using the formula:\n",
    "\n",
    "$$\\begin{align}\\displaystyle\n",
    "s^2 = \\frac{\\sum e_i^2}{n - 2} \\\\\n",
    " = \\frac{\\sum (y_i - \\hat{y_i})^2}{n-2}\n",
    " \\end{align}$$\n",
    " \n",
    "thus the **model standard deviation** $\\sigma$ is given by \n",
    "\n",
    "$$\\sigma = \\sqrt{s^2}$$"
   ]
  },
  {
   "cell_type": "code",
   "execution_count": null,
   "metadata": {},
   "outputs": [],
   "source": [
    "class StatLinReg(LinearRegression):\n",
    "    pass"
   ]
  },
  {
   "cell_type": "code",
   "execution_count": null,
   "metadata": {},
   "outputs": [],
   "source": [
    "lr = StatLinReg()"
   ]
  },
  {
   "cell_type": "code",
   "execution_count": null,
   "metadata": {},
   "outputs": [],
   "source": [
    "X = df[['education']]\n",
    "y = df['prestige']"
   ]
  },
  {
   "cell_type": "code",
   "execution_count": null,
   "metadata": {},
   "outputs": [],
   "source": [
    "lr.fit(X, y)"
   ]
  },
  {
   "cell_type": "code",
   "execution_count": null,
   "metadata": {},
   "outputs": [],
   "source": [
    "preds = lr.predict(X)"
   ]
  },
  {
   "cell_type": "code",
   "execution_count": null,
   "metadata": {},
   "outputs": [],
   "source": [
    "residuals = [yi - yhat for yi, yhat in zip(y, preds)]"
   ]
  },
  {
   "cell_type": "code",
   "execution_count": null,
   "metadata": {},
   "outputs": [],
   "source": [
    "plt.plot(X, residuals, 'o')\n",
    "plt.axhline(color = 'red')\n",
    "plt.title('Residual Plot', loc = 'left');"
   ]
  },
  {
   "cell_type": "markdown",
   "metadata": {},
   "source": [
    "**PROBLEM**\n",
    "\n",
    "Add to the `StatLinReg` class to include a residual method that accepts a feature matrix `X` and returns a numpy array of residuals.  "
   ]
  },
  {
   "cell_type": "code",
   "execution_count": null,
   "metadata": {},
   "outputs": [],
   "source": [
    "class StatLinReg(LinearRegression):\n",
    "    def residuals(self, X, y):\n",
    "        resids = [yi - yhat for yi, yhat in zip(y, self.predict(X))]\n",
    "        return np.array(resids)"
   ]
  },
  {
   "cell_type": "code",
   "execution_count": null,
   "metadata": {},
   "outputs": [],
   "source": [
    "lr = StatLinReg()\n",
    "lr.fit(X, y)\n",
    "resids = lr.residual(X, y)"
   ]
  },
  {
   "cell_type": "code",
   "execution_count": null,
   "metadata": {},
   "outputs": [],
   "source": [
    "plt.plot(X, resids, 'o')"
   ]
  },
  {
   "cell_type": "markdown",
   "metadata": {},
   "source": [
    "**PROBLEM**\n",
    "\n",
    "- Add another method that will return the standard deviation of the model called `std` using the formula above.\n",
    "\n",
    "- Plot a histogram of the residuals, is this normal?\n",
    "\n",
    "- Use seaborn's residual plot to generate a plot of the residuals and include a lowess line (check the arguments!)\n",
    "\n"
   ]
  },
  {
   "cell_type": "code",
   "execution_count": null,
   "metadata": {},
   "outputs": [],
   "source": []
  },
  {
   "cell_type": "code",
   "execution_count": null,
   "metadata": {},
   "outputs": [],
   "source": []
  },
  {
   "cell_type": "code",
   "execution_count": null,
   "metadata": {},
   "outputs": [],
   "source": []
  },
  {
   "cell_type": "code",
   "execution_count": null,
   "metadata": {},
   "outputs": [],
   "source": []
  },
  {
   "cell_type": "markdown",
   "metadata": {},
   "source": [
    "<div class = \"alert-warning\">\n",
    "  <center>\n",
    "<strong>CHECK YOUR ASSUMPTIONS</strong>\n",
    " </center>\n",
    "    \n",
    "    \n",
    "<li>Data is from a simple random sample of population</li>\n",
    "    <li>There is a linear relationship present</li>\n",
    "    <li>Standard deviation about the population line is the same for all values of explanatory variable.</li>\n",
    "    <li>The response varies normally about the population regression line, i.e. the model deviations vary normally about 0.</li>\n",
    "</div>"
   ]
  },
  {
   "cell_type": "code",
   "execution_count": null,
   "metadata": {},
   "outputs": [],
   "source": [
    "#probability plot from scipy\n",
    "stats.probplot(resids, plot = plt);"
   ]
  },
  {
   "cell_type": "code",
   "execution_count": null,
   "metadata": {},
   "outputs": [],
   "source": []
  },
  {
   "cell_type": "code",
   "execution_count": null,
   "metadata": {},
   "outputs": [],
   "source": []
  },
  {
   "cell_type": "code",
   "execution_count": null,
   "metadata": {},
   "outputs": [],
   "source": []
  },
  {
   "cell_type": "code",
   "execution_count": null,
   "metadata": {},
   "outputs": [],
   "source": []
  },
  {
   "cell_type": "markdown",
   "metadata": {},
   "source": [
    "### Standard Errors for Regression Coefficients\n",
    "\n",
    "- **Standard error of the slope**:\n",
    "\n",
    "$$SE_{b_1} = \\displaystyle\\frac{s}{\\sqrt {\\sum (x_i - x)^2}}$$\n",
    "\n",
    "- **Standard error of the intercept**:\n",
    "\n",
    "$$SE_{b_0} = s \\sqrt{\\frac{1}{n} - \\frac{\\bar{x}^2}{\\sum(x_i - \\bar{x})^2}}$$"
   ]
  },
  {
   "cell_type": "markdown",
   "metadata": {},
   "source": [
    "### Confidence Intervals and Significance"
   ]
  },
  {
   "cell_type": "markdown",
   "metadata": {},
   "source": [
    "$$\\text{estimate} \\pm t*SE_{estimate}$$\n",
    "\n",
    "where $t$ is our critical point from the $t$ distribution.\n",
    "\n",
    "\n"
   ]
  },
  {
   "cell_type": "markdown",
   "metadata": {},
   "source": [
    "#### CL for slope\n",
    "\n",
    "$$b_1 \\pm t*SE_{b_1}$$\n",
    "\n",
    "\n",
    "Note that the degrees of freedom for our $t$ distribution is $n-2$.\n",
    "\n",
    "We can test the hypothesis $$H_0: \\beta_1 = 0$$\n",
    "\n",
    "by examining the **test statistic**\n",
    "$$t = \\frac{b_1}{SE_{b_1}}$$"
   ]
  },
  {
   "cell_type": "markdown",
   "metadata": {},
   "source": [
    "**A SMALL EXAMPLE**\n",
    "\n",
    "| umbilical cord diameter | gestational age |\n",
    "| ----------------------   |  ------------  |\n",
    "| 2 | 16 |\n",
    "| 6 | 18 |\n",
    "| 9 | 26 |\n",
    "| 14 | 33 |\n",
    "| 21 | 28 |\n",
    "| 23 | 39 |"
   ]
  },
  {
   "cell_type": "code",
   "execution_count": null,
   "metadata": {},
   "outputs": [],
   "source": [
    "df = pd.DataFrame({'umb_diameter': [2, 6, 9, 14, 21, 23],\n",
    "                  'gestational_age': [16, 18, 26, 33, 28, 39]})"
   ]
  },
  {
   "cell_type": "code",
   "execution_count": null,
   "metadata": {},
   "outputs": [],
   "source": [
    "df"
   ]
  },
  {
   "cell_type": "code",
   "execution_count": null,
   "metadata": {},
   "outputs": [],
   "source": [
    "plt.scatter(df['umb_diameter'], df['gestational_age'])"
   ]
  },
  {
   "cell_type": "code",
   "execution_count": null,
   "metadata": {},
   "outputs": [],
   "source": [
    "#examine the data\n",
    "df"
   ]
  },
  {
   "cell_type": "code",
   "execution_count": null,
   "metadata": {},
   "outputs": [],
   "source": [
    "X = df[['umb_diameter']]\n",
    "y = df['gestational_age']"
   ]
  },
  {
   "cell_type": "code",
   "execution_count": null,
   "metadata": {},
   "outputs": [],
   "source": [
    "#instantiate\n",
    "lr = LinearRegression()\n",
    "#fit\n",
    "lr.fit(X, y)\n",
    "#predict\n",
    "preds = lr.predict(X)"
   ]
  },
  {
   "cell_type": "code",
   "execution_count": null,
   "metadata": {},
   "outputs": [],
   "source": [
    "#look at the coefficients\n",
    "lr.coef_"
   ]
  },
  {
   "cell_type": "code",
   "execution_count": null,
   "metadata": {},
   "outputs": [],
   "source": [
    "#examine the intercept\n",
    "lr.intercept_"
   ]
  },
  {
   "cell_type": "code",
   "execution_count": null,
   "metadata": {},
   "outputs": [],
   "source": [
    "#compute the residuals\n",
    "resids = [(yi - yhat) for yi, yhat in zip(y, preds)]"
   ]
  },
  {
   "cell_type": "code",
   "execution_count": null,
   "metadata": {},
   "outputs": [],
   "source": [
    "#use residuals to determine standard deviation\n",
    "s = np.sqrt(sum([r**2 for r in resids])/ (len(resids) - 2))"
   ]
  },
  {
   "cell_type": "code",
   "execution_count": null,
   "metadata": {},
   "outputs": [],
   "source": [
    "#set mean of x to xbar\n",
    "xbar = np.mean(X.values)"
   ]
  },
  {
   "cell_type": "code",
   "execution_count": null,
   "metadata": {},
   "outputs": [],
   "source": [
    "#determine the standard error of slope\n",
    "seb1 = s/np.sqrt(sum([(xi - xbar)**2 for xi in X.values]))"
   ]
  },
  {
   "cell_type": "code",
   "execution_count": null,
   "metadata": {},
   "outputs": [],
   "source": [
    "#look at the standard error\n",
    "seb1"
   ]
  },
  {
   "cell_type": "code",
   "execution_count": null,
   "metadata": {},
   "outputs": [],
   "source": [
    "#determine the test statistic\n",
    "slope = lr.coef_\n",
    "tstat = slope/seb1\n",
    "tstat"
   ]
  },
  {
   "cell_type": "markdown",
   "metadata": {},
   "source": [
    "### Testing Two Sides\n",
    "\n",
    "Whether or not the slope is non-zero!"
   ]
  },
  {
   "cell_type": "code",
   "execution_count": null,
   "metadata": {},
   "outputs": [],
   "source": [
    "from scipy import stats"
   ]
  },
  {
   "cell_type": "code",
   "execution_count": null,
   "metadata": {},
   "outputs": [],
   "source": [
    "2*(1 - stats.t(4).cdf(3.65))"
   ]
  },
  {
   "cell_type": "code",
   "execution_count": null,
   "metadata": {},
   "outputs": [],
   "source": [
    "#95% confidence interval for slope\n",
    "upper = (lr.coef_ + stats.t(4).interval(0.95)[1]*seb1)[0]\n",
    "lower = (lr.coef_ + stats.t(4).interval(0.95)[0]*seb1)[0]"
   ]
  },
  {
   "cell_type": "code",
   "execution_count": null,
   "metadata": {},
   "outputs": [],
   "source": [
    "(lower, upper)"
   ]
  },
  {
   "cell_type": "markdown",
   "metadata": {},
   "source": [
    "*WHAT DOES IT ALL MEAN?!*\n"
   ]
  },
  {
   "cell_type": "code",
   "execution_count": null,
   "metadata": {},
   "outputs": [],
   "source": []
  },
  {
   "cell_type": "code",
   "execution_count": null,
   "metadata": {},
   "outputs": [],
   "source": []
  },
  {
   "cell_type": "code",
   "execution_count": null,
   "metadata": {},
   "outputs": [],
   "source": []
  },
  {
   "cell_type": "code",
   "execution_count": null,
   "metadata": {},
   "outputs": [],
   "source": []
  },
  {
   "cell_type": "code",
   "execution_count": null,
   "metadata": {},
   "outputs": [],
   "source": []
  },
  {
   "cell_type": "markdown",
   "metadata": {},
   "source": [
    "### BMI Example"
   ]
  },
  {
   "cell_type": "code",
   "execution_count": null,
   "metadata": {},
   "outputs": [],
   "source": [
    "#read in data\n",
    "import pandas as pd\n",
    "bmi = pd.read_excel('datasets/PABMI.xls')"
   ]
  },
  {
   "cell_type": "code",
   "execution_count": null,
   "metadata": {},
   "outputs": [],
   "source": [
    "#peek at head\n",
    "bmi.head()"
   ]
  },
  {
   "cell_type": "code",
   "execution_count": null,
   "metadata": {},
   "outputs": [],
   "source": [
    "#plot steps vs. bmi\n",
    "plt.scatter(bmi['PA'], bmi['BMI'])"
   ]
  },
  {
   "cell_type": "code",
   "execution_count": null,
   "metadata": {},
   "outputs": [],
   "source": [
    "#fit the model\n",
    "lr = LinearRegression()\n",
    "lr.fit(bmi[['PA']], bmi['BMI'])"
   ]
  },
  {
   "cell_type": "code",
   "execution_count": null,
   "metadata": {},
   "outputs": [],
   "source": [
    "#examine coefs \n",
    "lr.coef_"
   ]
  },
  {
   "cell_type": "code",
   "execution_count": null,
   "metadata": {},
   "outputs": [],
   "source": [
    "#examine intercept\n",
    "lr.intercept_"
   ]
  },
  {
   "cell_type": "code",
   "execution_count": null,
   "metadata": {},
   "outputs": [],
   "source": []
  },
  {
   "cell_type": "code",
   "execution_count": null,
   "metadata": {},
   "outputs": [],
   "source": [
    "#standard error??\n"
   ]
  },
  {
   "cell_type": "code",
   "execution_count": null,
   "metadata": {},
   "outputs": [],
   "source": [
    "lower = lr.coef_ + stats.t(98).interval(0.95)[1]*0.158"
   ]
  },
  {
   "cell_type": "code",
   "execution_count": null,
   "metadata": {},
   "outputs": [],
   "source": [
    "upper = lr.coef_ - stats.t(98).interval(0.95)[1]*0.158"
   ]
  },
  {
   "cell_type": "code",
   "execution_count": null,
   "metadata": {},
   "outputs": [],
   "source": [
    "lower, upper"
   ]
  },
  {
   "cell_type": "markdown",
   "metadata": {},
   "source": [
    "### Testing for Correlation\n",
    "\n",
    "$$t = \\frac{r\\sqrt{n - 2}}{\\sqrt{1 - r^2}} $$\n",
    "\n",
    "where $n$ is the sample size and $r$ is the sample correlation.  "
   ]
  },
  {
   "cell_type": "code",
   "execution_count": null,
   "metadata": {},
   "outputs": [],
   "source": [
    "X =bmi['PA']\n",
    "y = bmi['BMI']\n",
    "#correlation between bmi and pa\n",
    "np.corrcoef(X.values.ravel(), y)[0, 1]"
   ]
  },
  {
   "cell_type": "code",
   "execution_count": null,
   "metadata": {},
   "outputs": [],
   "source": [
    "#compute the test statistic above; \n",
    "#have we seen this before?\n"
   ]
  },
  {
   "cell_type": "code",
   "execution_count": null,
   "metadata": {},
   "outputs": [],
   "source": [
    "# What's this do? stats.pearsonr(X, y)\n"
   ]
  },
  {
   "cell_type": "code",
   "execution_count": null,
   "metadata": {},
   "outputs": [],
   "source": []
  },
  {
   "cell_type": "code",
   "execution_count": null,
   "metadata": {},
   "outputs": [],
   "source": []
  },
  {
   "cell_type": "code",
   "execution_count": null,
   "metadata": {},
   "outputs": [],
   "source": []
  },
  {
   "cell_type": "code",
   "execution_count": null,
   "metadata": {},
   "outputs": [],
   "source": []
  },
  {
   "cell_type": "code",
   "execution_count": null,
   "metadata": {},
   "outputs": [],
   "source": []
  }
 ],
 "metadata": {
  "kernelspec": {
   "display_name": "Python 3",
   "language": "python",
   "name": "python3"
  },
  "language_info": {
   "codemirror_mode": {
    "name": "ipython",
    "version": 3
   },
   "file_extension": ".py",
   "mimetype": "text/x-python",
   "name": "python",
   "nbconvert_exporter": "python",
   "pygments_lexer": "ipython3",
   "version": "3.8.3"
  }
 },
 "nbformat": 4,
 "nbformat_minor": 4
}
