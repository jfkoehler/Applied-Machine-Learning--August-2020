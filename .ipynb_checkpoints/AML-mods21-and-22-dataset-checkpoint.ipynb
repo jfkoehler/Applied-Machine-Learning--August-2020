{
 "cells": [
  {
   "cell_type": "markdown",
   "metadata": {},
   "source": [
    "# Decision Exercise: Mods 21 & 22"
   ]
  },
  {
   "cell_type": "markdown",
   "metadata": {},
   "source": [
    "## Personalizing the Fashion Browsing Experience\n",
    "\n",
    "**Background**\n",
    "\n",
    "[Rent the Runway](https://www.renttherunway.com/) allows users to browse and rent thousands of designer quality clothes so their users can always be wearing stylish apparel without breaking the bank. With thousands of options to choose, all with varying sizes and styles, the shopping experience could quickly become overwhelming without some degree of personalization. From a business perspective, revenue can be increased by presenting users with the right offer, the right product, at the right time.\n",
    "\n",
    "**Prompt**\n",
    "\n",
    "What features of a recommender system make it effective for both the business (increase revenue) and the user experience (personalize information space)? In addition to collaborative filtering approaches, how can other techniques (content based, rule based, or hybrid) be used to augment the recommendation engine? How should these methods be measured within the context of the business objectives of Rent the Runway?\n",
    "\n",
    "**Data Source**\n",
    "\n",
    "Decomposing fit semantics for product size recommendation in metric spaces\n",
    "Rishabh Misra, Mengting Wan, Julian McAuley\n",
    "RecSys, 2018\n",
    "[pdf](http://cseweb.ucsd.edu/~jmcauley/pdfs/recsys18e.pdf)\n",
    "\n",
    "**Data Description**\n",
    "\n",
    "```\n",
    "rows: user_ids; this is a particular user ID\n",
    "\n",
    "columns: item_ids; these are the product number for a particular product\n",
    "```\n",
    "\n",
    "The values for a (row, column) is a rating that a user gave that particular item. As you might notice, the matrix contains mostly null values because most users rate a small percentage of items and items are rated by a handful of users."
   ]
  },
  {
   "cell_type": "markdown",
   "metadata": {},
   "source": [
    "Import our packages"
   ]
  },
  {
   "cell_type": "code",
   "execution_count": 1,
   "metadata": {},
   "outputs": [],
   "source": [
    "import pandas as pd\n",
    "import gzip\n",
    "import json"
   ]
  },
  {
   "cell_type": "markdown",
   "metadata": {},
   "source": [
    "Define our data file to the variable DATAFILE"
   ]
  },
  {
   "cell_type": "code",
   "execution_count": 2,
   "metadata": {},
   "outputs": [],
   "source": [
    "DATAFILE = './datasets/RentTheRunwayRatings.csv'"
   ]
  },
  {
   "cell_type": "markdown",
   "metadata": {},
   "source": [
    "Read our data file into a DataFrame and view the head of the DataFrame"
   ]
  },
  {
   "cell_type": "code",
   "execution_count": null,
   "metadata": {},
   "outputs": [],
   "source": [
    "# read in prepared ratings matrix\n",
    "df = pd.read_csv(DATAFILE, index_col='user_id')\n",
    "df.head()"
   ]
  },
  {
   "cell_type": "markdown",
   "metadata": {},
   "source": [
    "### To view raw data...\n",
    "Read in the raw data"
   ]
  },
  {
   "cell_type": "code",
   "execution_count": 4,
   "metadata": {},
   "outputs": [],
   "source": [
    "RAW_DATA = './datasets/renttherunway_final_data.json.gz'\n",
    "data = []\n",
    "with gzip.open(RAW_DATA, 'r') as f:\n",
    "    contents = f.readlines()\n",
    "    for line in contents:\n",
    "        data.append(json.loads(line))"
   ]
  },
  {
   "cell_type": "markdown",
   "metadata": {},
   "source": [
    "Convert to `pandas.DataFrame()` object"
   ]
  },
  {
   "cell_type": "code",
   "execution_count": 5,
   "metadata": {},
   "outputs": [
    {
     "data": {
      "text/html": [
       "<div>\n",
       "<style scoped>\n",
       "    .dataframe tbody tr th:only-of-type {\n",
       "        vertical-align: middle;\n",
       "    }\n",
       "\n",
       "    .dataframe tbody tr th {\n",
       "        vertical-align: top;\n",
       "    }\n",
       "\n",
       "    .dataframe thead th {\n",
       "        text-align: right;\n",
       "    }\n",
       "</style>\n",
       "<table border=\"1\" class=\"dataframe\">\n",
       "  <thead>\n",
       "    <tr style=\"text-align: right;\">\n",
       "      <th></th>\n",
       "      <th>age</th>\n",
       "      <th>body type</th>\n",
       "      <th>bust size</th>\n",
       "      <th>category</th>\n",
       "      <th>fit</th>\n",
       "      <th>height</th>\n",
       "      <th>item_id</th>\n",
       "      <th>rating</th>\n",
       "      <th>rented for</th>\n",
       "      <th>review_date</th>\n",
       "      <th>review_summary</th>\n",
       "      <th>review_text</th>\n",
       "      <th>size</th>\n",
       "      <th>user_id</th>\n",
       "      <th>weight</th>\n",
       "    </tr>\n",
       "  </thead>\n",
       "  <tbody>\n",
       "    <tr>\n",
       "      <th>0</th>\n",
       "      <td>28</td>\n",
       "      <td>hourglass</td>\n",
       "      <td>34d</td>\n",
       "      <td>romper</td>\n",
       "      <td>fit</td>\n",
       "      <td>5' 8\"</td>\n",
       "      <td>2260466</td>\n",
       "      <td>10</td>\n",
       "      <td>vacation</td>\n",
       "      <td>April 20, 2016</td>\n",
       "      <td>So many compliments!</td>\n",
       "      <td>An adorable romper! Belt and zipper were a lit...</td>\n",
       "      <td>14</td>\n",
       "      <td>420272</td>\n",
       "      <td>137lbs</td>\n",
       "    </tr>\n",
       "    <tr>\n",
       "      <th>1</th>\n",
       "      <td>36</td>\n",
       "      <td>straight &amp; narrow</td>\n",
       "      <td>34b</td>\n",
       "      <td>gown</td>\n",
       "      <td>fit</td>\n",
       "      <td>5' 6\"</td>\n",
       "      <td>153475</td>\n",
       "      <td>10</td>\n",
       "      <td>other</td>\n",
       "      <td>June 18, 2013</td>\n",
       "      <td>I felt so glamourous!!!</td>\n",
       "      <td>I rented this dress for a photo shoot. The the...</td>\n",
       "      <td>12</td>\n",
       "      <td>273551</td>\n",
       "      <td>132lbs</td>\n",
       "    </tr>\n",
       "    <tr>\n",
       "      <th>2</th>\n",
       "      <td>116</td>\n",
       "      <td>NaN</td>\n",
       "      <td>NaN</td>\n",
       "      <td>sheath</td>\n",
       "      <td>fit</td>\n",
       "      <td>5' 4\"</td>\n",
       "      <td>1063761</td>\n",
       "      <td>10</td>\n",
       "      <td>party</td>\n",
       "      <td>December 14, 2015</td>\n",
       "      <td>It was a great time to celebrate the (almost) ...</td>\n",
       "      <td>This hugged in all the right places! It was a ...</td>\n",
       "      <td>4</td>\n",
       "      <td>360448</td>\n",
       "      <td>NaN</td>\n",
       "    </tr>\n",
       "    <tr>\n",
       "      <th>3</th>\n",
       "      <td>34</td>\n",
       "      <td>pear</td>\n",
       "      <td>34c</td>\n",
       "      <td>dress</td>\n",
       "      <td>fit</td>\n",
       "      <td>5' 5\"</td>\n",
       "      <td>126335</td>\n",
       "      <td>8</td>\n",
       "      <td>formal affair</td>\n",
       "      <td>February 12, 2014</td>\n",
       "      <td>Dress arrived on time and in perfect condition.</td>\n",
       "      <td>I rented this for my company's black tie award...</td>\n",
       "      <td>8</td>\n",
       "      <td>909926</td>\n",
       "      <td>135lbs</td>\n",
       "    </tr>\n",
       "    <tr>\n",
       "      <th>4</th>\n",
       "      <td>27</td>\n",
       "      <td>athletic</td>\n",
       "      <td>34b</td>\n",
       "      <td>gown</td>\n",
       "      <td>fit</td>\n",
       "      <td>5' 9\"</td>\n",
       "      <td>616682</td>\n",
       "      <td>10</td>\n",
       "      <td>wedding</td>\n",
       "      <td>September 26, 2016</td>\n",
       "      <td>Was in love with this dress !!!</td>\n",
       "      <td>I have always been petite in my upper body and...</td>\n",
       "      <td>12</td>\n",
       "      <td>151944</td>\n",
       "      <td>145lbs</td>\n",
       "    </tr>\n",
       "  </tbody>\n",
       "</table>\n",
       "</div>"
      ],
      "text/plain": [
       "   age          body type bust size category  fit height  item_id rating  \\\n",
       "0   28          hourglass       34d   romper  fit  5' 8\"  2260466     10   \n",
       "1   36  straight & narrow       34b     gown  fit  5' 6\"   153475     10   \n",
       "2  116                NaN       NaN   sheath  fit  5' 4\"  1063761     10   \n",
       "3   34               pear       34c    dress  fit  5' 5\"   126335      8   \n",
       "4   27           athletic       34b     gown  fit  5' 9\"   616682     10   \n",
       "\n",
       "      rented for         review_date  \\\n",
       "0       vacation      April 20, 2016   \n",
       "1          other       June 18, 2013   \n",
       "2          party   December 14, 2015   \n",
       "3  formal affair   February 12, 2014   \n",
       "4        wedding  September 26, 2016   \n",
       "\n",
       "                                      review_summary  \\\n",
       "0                               So many compliments!   \n",
       "1                            I felt so glamourous!!!   \n",
       "2  It was a great time to celebrate the (almost) ...   \n",
       "3   Dress arrived on time and in perfect condition.    \n",
       "4                    Was in love with this dress !!!   \n",
       "\n",
       "                                         review_text  size user_id  weight  \n",
       "0  An adorable romper! Belt and zipper were a lit...    14  420272  137lbs  \n",
       "1  I rented this dress for a photo shoot. The the...    12  273551  132lbs  \n",
       "2  This hugged in all the right places! It was a ...     4  360448     NaN  \n",
       "3  I rented this for my company's black tie award...     8  909926  135lbs  \n",
       "4  I have always been petite in my upper body and...    12  151944  145lbs  "
      ]
     },
     "execution_count": 5,
     "metadata": {},
     "output_type": "execute_result"
    }
   ],
   "source": [
    "df = pd.DataFrame(data)\n",
    "df.head()"
   ]
  },
  {
   "cell_type": "markdown",
   "metadata": {},
   "source": [
    "Select user-item rating columns"
   ]
  },
  {
   "cell_type": "code",
   "execution_count": 6,
   "metadata": {},
   "outputs": [],
   "source": [
    "ratings = df[['user_id', 'item_id', 'rating']].copy()"
   ]
  },
  {
   "cell_type": "markdown",
   "metadata": {},
   "source": [
    "Drop duplicate ratings on same item from same user"
   ]
  },
  {
   "cell_type": "code",
   "execution_count": 7,
   "metadata": {},
   "outputs": [],
   "source": [
    "to_drop = ratings[ratings[['user_id', 'item_id']].duplicated()].index\n",
    "ratings_nodup = ratings.drop(to_drop)"
   ]
  },
  {
   "cell_type": "markdown",
   "metadata": {},
   "source": [
    "Pivot these columns to produce ratings matrix"
   ]
  },
  {
   "cell_type": "code",
   "execution_count": null,
   "metadata": {},
   "outputs": [],
   "source": [
    "pivot_ratings = (\n",
    "    ratings_nodup\n",
    "        .sort_values(by=['user_id', 'item_id'])\n",
    "        .pivot(index='user_id', columns='item_id', values='rating')\n",
    ")"
   ]
  },
  {
   "cell_type": "markdown",
   "metadata": {},
   "source": [
    "Save ratings matrix to csv file"
   ]
  },
  {
   "cell_type": "code",
   "execution_count": 20,
   "metadata": {},
   "outputs": [],
   "source": [
    "# pivot_ratings.to_csv('./datasets/RentTheRunwayRatings.csv')"
   ]
  }
 ],
 "metadata": {
  "kernelspec": {
   "display_name": "Python 3",
   "language": "python",
   "name": "python3"
  },
  "language_info": {
   "codemirror_mode": {
    "name": "ipython",
    "version": 3
   },
   "file_extension": ".py",
   "mimetype": "text/x-python",
   "name": "python",
   "nbconvert_exporter": "python",
   "pygments_lexer": "ipython3",
   "version": "3.7.6"
  }
 },
 "nbformat": 4,
 "nbformat_minor": 4
}
